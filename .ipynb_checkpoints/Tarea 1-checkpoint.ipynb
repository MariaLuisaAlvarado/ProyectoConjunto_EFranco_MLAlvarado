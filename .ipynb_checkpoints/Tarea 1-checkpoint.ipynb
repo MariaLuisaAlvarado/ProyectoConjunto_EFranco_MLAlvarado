{
 "cells": [
  {
   "cell_type": "markdown",
   "metadata": {},
   "source": [
    "<img style=\"float: left; margin: 30px 15px 15px 15px;\" src=\"https://pngimage.net/wp-content/uploads/2018/06/logo-iteso-png-5.png\" width=\"300\" height=\"500\" /> \n",
    "    \n",
    "    \n",
    "### <font color='navy'> Simulación de procesos financieros. \n",
    "\n",
    "**Nombres:** \n",
    "- Edzná Franco Jaramillo.\n",
    "- María Luisa Alvarado López\n",
    "\n",
    "\n",
    "**Fecha:** 02 de febrero del 2020.\n",
    "\n",
    "**Expedientes** : \n",
    "- IF706432.\n",
    "- IF715373              \n",
    "\n",
    "**Profesor:** Oscar David Jaramillo Zuluaga.\n",
    "\n",
    "# Tarea 1: Clase 2"
   ]
  },
  {
   "cell_type": "markdown",
   "metadata": {},
   "source": [
    "## Paso 5\n",
    "> En este nuevo notebook el ESTUDIANTE 1, debe realizar una presentación describiendo sus expectativas del curso haciendo uso de la sintaxis Markdown. Además deberán reportar el resumen de alguno de estos dos artículos (dar click para ingresar al enlace)\n",
    ">+ Documento economist 1\n",
    ">+ Documento economist 2\n",
    "\n",
    "Tal presentación debe de tener: los diferentes tipos de Encabezados, código LATEX, donde deben de replicar el contenido de la Figura 5. Además debe de contar con imágenes y alguna tabla con información variada."
   ]
  },
  {
   "cell_type": "markdown",
   "metadata": {},
   "source": [
    "# <center> <font color=\"dark\">Expectativas Estudiante 1#"
   ]
  },
  {
   "cell_type": "markdown",
   "metadata": {},
   "source": [
    "<font color=\"indigo\">**Mis expectativas del curso de simulación de procesos financieros son:**</font>\n",
    "* Aprender a programar de manera eficiente haciendo que el algoritmo sea lo más rápido posible. \n",
    "* Intentar aplicar lo que veamos en clase en alguna futura inversión que quiera hacer yo o cualquier conocido.\n",
    "* Programar de manera matricial para darle un orden funcional al algoritmo en cuestión.\n",
    "* Trabajar mucho con la lógica que sigue la programación y no tener que pegar y copiar código. \n",
    "* Que el profesor nos indique fuentes bibliográficas adicionales para reforzar los temas, en caso de así desearlo. \n",
    "![](https://image.freepik.com/vector-gratis/lenguajes-programacion-establecen-iconos_24877-761.jpg)"
   ]
  },
  {
   "cell_type": "code",
   "execution_count": null,
   "metadata": {},
   "outputs": [],
   "source": []
  },
  {
   "cell_type": "code",
   "execution_count": null,
   "metadata": {},
   "outputs": [],
   "source": []
  },
  {
   "cell_type": "code",
   "execution_count": null,
   "metadata": {},
   "outputs": [],
   "source": []
  },
  {
   "cell_type": "code",
   "execution_count": null,
   "metadata": {},
   "outputs": [],
   "source": []
  },
  {
   "cell_type": "code",
   "execution_count": null,
   "metadata": {},
   "outputs": [],
   "source": []
  },
  {
   "cell_type": "code",
   "execution_count": null,
   "metadata": {},
   "outputs": [],
   "source": []
  },
  {
   "cell_type": "code",
   "execution_count": null,
   "metadata": {},
   "outputs": [],
   "source": []
  },
  {
   "cell_type": "code",
   "execution_count": null,
   "metadata": {},
   "outputs": [],
   "source": []
  },
  {
   "cell_type": "code",
   "execution_count": null,
   "metadata": {},
   "outputs": [],
   "source": []
  },
  {
   "cell_type": "code",
   "execution_count": null,
   "metadata": {},
   "outputs": [],
   "source": []
  },
  {
   "cell_type": "code",
   "execution_count": null,
   "metadata": {},
   "outputs": [],
   "source": []
  },
  {
   "cell_type": "code",
   "execution_count": null,
   "metadata": {},
   "outputs": [],
   "source": []
  },
  {
   "cell_type": "code",
   "execution_count": null,
   "metadata": {},
   "outputs": [],
   "source": []
  },
  {
   "cell_type": "code",
   "execution_count": null,
   "metadata": {},
   "outputs": [],
   "source": []
  },
  {
   "cell_type": "code",
   "execution_count": null,
   "metadata": {},
   "outputs": [],
   "source": []
  },
  {
   "cell_type": "code",
   "execution_count": null,
   "metadata": {},
   "outputs": [],
   "source": []
  },
  {
   "cell_type": "code",
   "execution_count": null,
   "metadata": {},
   "outputs": [],
   "source": []
  },
  {
   "cell_type": "code",
   "execution_count": null,
   "metadata": {},
   "outputs": [],
   "source": []
  },
  {
   "cell_type": "code",
   "execution_count": null,
   "metadata": {},
   "outputs": [],
   "source": []
  },
  {
   "cell_type": "markdown",
   "metadata": {},
   "source": [
    "# Paso 8\n",
    "> Luego de culminado los pasos anteriores, el ESTUDIANTE 1, realizará un programa que imprima la serie de fibonacci para sus primeros 100 términos en un array de python, usando la rama “master” del repositorio creado. Por otro lado, el ESTUDIANTE 2, creando un “branch” llamado ejerProgra, generará un programa que muestre los nú-meros primos del 0-100. Luego de que el ESTUDIANTE 2 haya terminado su programa, debe de realizar un “pull request” al ESTUDIANTE 1, antes de hacer un “merge” dela rama ejerPrograa el proyecto principal (“master”). Luego de realizado estos pasos NO BORRAR LA RAMA CREADA."
   ]
  },
  {
   "cell_type": "code",
   "execution_count": null,
   "metadata": {},
   "outputs": [],
   "source": []
  }
 ],
 "metadata": {
  "kernelspec": {
   "display_name": "Python 3",
   "language": "python",
   "name": "python3"
  },
  "language_info": {
   "codemirror_mode": {
    "name": "ipython",
    "version": 3
   },
   "file_extension": ".py",
   "mimetype": "text/x-python",
   "name": "python",
   "nbconvert_exporter": "python",
   "pygments_lexer": "ipython3",
   "version": "3.7.4"
  }
 },
 "nbformat": 4,
 "nbformat_minor": 2
}
