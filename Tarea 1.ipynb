{
 "cells": [
  {
   "cell_type": "markdown",
   "metadata": {},
   "source": [
    "<img style=\"float: left; margin: 30px 15px 15px 15px;\" src=\"https://pngimage.net/wp-content/uploads/2018/06/logo-iteso-png-5.png\" width=\"300\" height=\"500\" /> \n",
    "    \n",
    "    \n",
    "### <font color='navy'> Simulación de procesos financieros. \n",
    "\n",
    "**Nombres:** \n",
    "- Edzná Franco Jaramillo.\n",
    "- María Luisa Alvarado López\n",
    "\n",
    "\n",
    "**Fecha:** 02 de febrero del 2020.\n",
    "\n",
    "**Expedientes** : \n",
    "- IF706432.\n",
    "- IF715373              \n",
    "\n",
    "**Profesor:** Oscar David Jaramillo Zuluaga.\n",
    "\n",
    "# Tarea 1: Clase 2"
   ]
  },
  {
   "cell_type": "markdown",
   "metadata": {},
   "source": [
    "## Paso 5\n",
    "> En este nuevo notebook el ESTUDIANTE 1, debe realizar una presentación describiendo sus expectativas del curso haciendo uso de la sintaxis Markdown. Además deberán reportar el resumen de alguno de estos dos artículos (dar click para ingresar al enlace)\n",
    ">+ Documento economist 1\n",
    ">+ Documento economist 2\n",
    "\n",
    "Tal presentación debe de tener: los diferentes tipos de Encabezados, código LATEX, donde deben de replicar el contenido de la Figura 5. Además debe de contar con imágenes y alguna tabla con información variada."
   ]
  },
  {
   "cell_type": "markdown",
   "metadata": {},
   "source": [
    "# <center> <font color=\"dark\">Expectativas Estudiante 1#"
   ]
  },
  {
   "cell_type": "markdown",
   "metadata": {},
   "source": [
    "<font color=\"indigo\">**Mis expectativas del curso de simulación de procesos financieros son:**</font>\n",
    "* Aprender a programar de manera eficiente haciendo que el algoritmo sea lo más rápido posible. \n",
    "* Intentar aplicar lo que veamos en clase en alguna futura inversión que quiera hacer yo o cualquier conocido.\n",
    "* Programar de manera matricial para darle un orden funcional al algoritmo en cuestión.\n",
    "* Trabajar mucho con la lógica que sigue la programación y no tener que pegar y copiar código. \n",
    "* Que el profesor nos indique fuentes bibliográficas adicionales para reforzar los temas, en caso de así desearlo. \n",
    "![](https://image.freepik.com/vector-gratis/lenguajes-programacion-establecen-iconos_24877-761.jpg)"
   ]
  },
  {
   "cell_type": "markdown",
   "metadata": {},
   "source": [
    "##  <font color=\"indigo\">Top 3 de lenguajes de programación más usados:</font>"
   ]
  },
  {
   "cell_type": "markdown",
   "metadata": {},
   "source": [
    "|   | Lenguaje   |   |   |   |\n",
    "|---|------------|---|---|---|\n",
    "| 1 | Python     |   |   |   |\n",
    "| 2 | Java       |   |   |   |\n",
    "| 3 | JavaScript |   |   |   |"
   ]
  },
  {
   "cell_type": "markdown",
   "metadata": {},
   "source": [
    "# Resumen documento 1"
   ]
  },
  {
   "cell_type": "markdown",
   "metadata": {},
   "source": [
    "\n",
    "Durante este semestre estaremos trabajando con el lenguaje de programación **\"Python\"**; ¿por qué? un artículo del sitio web, _The economist_ explica a fondo las razones pero a continuación les menciono lo más importante:\n",
    "1. Fue creado por el alemán Guido van Rossum en 1989 y su intencion no era que se volviera en un lenguaje de programación de uso masivo, pero en los últimos 12 meses ha superado las busquedas en Google, incluso mas que el reality show de Kim Kardashian mientras que otros lenguajes han mantenido sus mismas consultas o han decaído.\n",
    "2. Las dos grandes ventajas de este programa es su _simplicidad_ y _flexibilidad_ que tiene. La versatibilidad que tiene va desde agencias de inteligencia para jaquear, Google para rastrear paginas web, Pixar para producir películas y Spotify para recomendar canciones.\n",
    "3. Sin embargo, Python no reemplazará los lenguajes C y C++, Java o JavaScript ya que son para fines distintos."
   ]
  },
  {
   "cell_type": "markdown",
   "metadata": {},
   "source": [
    "# <font color=\"indigo\">Réplica de la figura 5 Estudiante 1</font>"
   ]
  },
  {
   "cell_type": "markdown",
   "metadata": {},
   "source": [
    "1. La fórmula del rectángulo se obtiene al interpolar a $f(x)$ por medio del polinomio constante $p_0(x)=\\frac{f(a+b)}2$."
   ]
  },
  {
   "cell_type": "markdown",
   "metadata": {},
   "source": [
    "\\begin{aligned}\n",
    "\\int_{a}^{b} f(x)dx \\approx\\ (b-a)f(\\frac{a+b}{2}) = R(f)\n",
    "\\end{aligned}"
   ]
  },
  {
   "cell_type": "markdown",
   "metadata": {},
   "source": [
    "2. La fórmula del trapecio se obtiene al interpolar a $f$ por medio de un polinomio lineal $p_1(x) =\\alpha x+\\beta$ que satisfaga $f(a) =p_1(a)$, y $f(b)=p_1(b)$. Determinar el polinomio lineal es equivalente a resolver un sistema de ecuaciones lineales para $\\alpha$ y $\\beta$ cuya solución es:"
   ]
  },
  {
   "cell_type": "markdown",
   "metadata": {},
   "source": [
    "\\begin{equation}\n",
    "\\alpha = \\frac{f(b)-f(a)}{b-a}\n",
    "\\end{equation}\n",
    "\\begin{equation}\n",
    "\\beta = \\frac{f(b)a-f(a)b}{b-a}\n",
    "\\end{equation}"
   ]
  },
  {
   "cell_type": "markdown",
   "metadata": {},
   "source": [
    "Al integrar $p_1(x)$ en el intervalo de $[a,b]$ se obtiene la regla del trapecio con $h=b-a$."
   ]
  },
  {
   "cell_type": "markdown",
   "metadata": {},
   "source": [
    "\\begin{aligned}\n",
    "\\int_{a}^{b} f(x)dx \\approx\\ \\int_{a}^{b} p_1(x) dx=\\frac{h}{2}(f(a)+f(b))= T(f)\n",
    "\\end{aligned}"
   ]
  },
  {
   "cell_type": "markdown",
   "metadata": {},
   "source": [
    "El error esta dado por"
   ]
  },
  {
   "cell_type": "markdown",
   "metadata": {},
   "source": [
    "\\begin{aligned}\n",
    "\\int_{a}^{b} f(x)dx-T(f) = -\\frac{h^3}{12}(f''(n)), a<n<b.\n",
    "\\end{aligned}"
   ]
  },
  {
   "cell_type": "markdown",
   "metadata": {},
   "source": [
    "3. Por último al integrar el polinomio cuadrático que interpola a $f$ en $x=a, x=\\frac{a+b}{2}$ y $x=b$ se obtiene la regla de Simpson con $h=\\frac{b-a}{2}$"
   ]
  },
  {
   "cell_type": "markdown",
   "metadata": {},
   "source": [
    "\\begin{aligned}\n",
    "\\int_{a}^{b} f(x)dx  \\approx\\ \\int_{a}^{b} p_2(x)dx=\\frac{h}{3}(f(a) +4f(a+h)+f(b))=S(f).\n",
    "\\end{aligned}"
   ]
  },
  {
   "cell_type": "markdown",
   "metadata": {},
   "source": [
    "El error que se comete al usar Simpson es "
   ]
  },
  {
   "cell_type": "markdown",
   "metadata": {},
   "source": [
    "\\begin{aligned}\n",
    "\\int_{a}^{b} f(x)dx-S(f) = \\frac{h^5}{90}(f^4(n)), a<n<b.\n",
    "\\end{aligned}"
   ]
  },
  {
   "cell_type": "markdown",
   "metadata": {},
   "source": [
    "# <center> <font color=\"palevioletred\">Expectativas Estudiante 2#"
   ]
  },
  {
   "cell_type": "markdown",
   "metadata": {},
   "source": [
    "    \n",
    "![](https://encrypted-tbn0.gstatic.com/images?q=tbn%3AANd9GcTSo7kO_WQh1bgeKrajlP06UWF8McixeEH2y9f39UcwJ1dJ3We-)"
   ]
  },
  {
   "cell_type": "markdown",
   "metadata": {},
   "source": [
    "- A pesar de ser una materia que se dice es compleja por si misma, considero que haciendo tarea y la metodología que sigue el maestro  va ser una clase disfrutaré. Mis expectativas del curso son:\n",
    "\n",
    ">1. Programar de una manera más eficiente.\n",
    "\n",
    ">2. Realizar códigos más organizados.\n",
    "\n",
    ">3. Creación de códigos simulando problemas reales enfocados a problemas financieros.\n",
    "\n",
    ">4. Aprender a programar de una forma vectorizada .\n",
    "\n",
    ">5. Aprovechar la materia al máximo de tal manera que sean clases que disfrute y que no se vuelvan pesadas para mí."
   ]
  },
  {
   "cell_type": "markdown",
   "metadata": {},
   "source": [
    "# <center> <font color=\"turquoise\">Resumen Documento 2#\n",
    "\n",
    "## <font color=\"mediumpurple\">Estudiante 2"
   ]
  },
  {
   "cell_type": "markdown",
   "metadata": {},
   "source": [
    "Guido van Rossum, científico computacional Holandés, creó en 1989 “*Python*” un lenguaje de programación.\n",
    "Todo empezó como un proyecto de navidad, Van Rossum quería crear su propio lenguaje bajo sus propios principios:\n",
    "    \n",
    ">**1.**Fácil de leer.\n",
    "\n",
    ">**2.**Que los usuarios pudieran crear sus propios paquetes de códigos para fines especiales y posteriormente estar a disposición de otros para crear nuevos programas.\n",
    "\n",
    ">**3.**Nombre “corto, único y ligeramente misterioso”\n",
    "\n",
    "El repositorio de paquetes (módulos de codificación con propósito especial) se hizo conocido como Cheese Shop.\n",
    "\n",
    "*Monty Python* como le llamó Guido fue tan famoso que incluso llego a ser buscado más en Google que Kim Kardashian; incluso ha provacado que otros lenguajes ya no sean buscados o que no hayan aumentado su popularidad. Cabe destacar que su fama no solo es entre programadores sino tambien entre la gente común que desea conocer del tema o como en el caso  de Estados Unidos, más escuelas brindan cursos a sus estudiantes.\n",
    "\n",
    "La fama de **Python** ha llegado a ser tan grande tanto que su mismo desarrollador dejo a los *pythonistas* (usuarios admiradores) continueran su proyecto debido a la presión que la misma fama le dio.Los pythonistas han agregado más de 145,000 paquetes de diferentes temas a Cheese Shop.\n",
    "\n",
    "Como es normal, python **NO** es perfecto pues existen algunos otros programas en los que sus funciones son más especificas; sin embargo la ventaja que python presenta es que su sintexis es muy sencilla de interpetrar y compartir.Además, éste cuenta con la variedad de paquetes que permiten utilizarlo para diferentes funciones, la más destacada por el momento es para el uso de la inteligencia artificial pues permite a los usuarios crear redes neuronales que puedan seleccionar patrones.\n",
    "\n",
    "Python es una herramienta que no solamente hace cálculos matemáticos si no que tambien muchos profesionistas lo utilizan para trabajos “no técnicos”. Por otro lado, a pesar de ser un programa tan útil, la mala interpretación y/o practica de la información pueda provocar grandes errores.\n"
   ]
  },
  {
   "cell_type": "code",
   "execution_count": null,
   "metadata": {},
   "outputs": [],
   "source": []
  },
  {
   "cell_type": "code",
   "execution_count": null,
   "metadata": {},
   "outputs": [],
   "source": []
  },
  {
   "cell_type": "code",
   "execution_count": null,
   "metadata": {},
   "outputs": [],
   "source": []
  },
  {
   "cell_type": "code",
   "execution_count": null,
   "metadata": {},
   "outputs": [],
   "source": []
  },
  {
   "cell_type": "code",
   "execution_count": null,
   "metadata": {},
   "outputs": [],
   "source": []
  },
  {
   "cell_type": "code",
   "execution_count": null,
   "metadata": {},
   "outputs": [],
   "source": []
  },
  {
   "cell_type": "code",
   "execution_count": null,
   "metadata": {},
   "outputs": [],
   "source": []
  },
  {
   "cell_type": "code",
   "execution_count": null,
   "metadata": {},
   "outputs": [],
   "source": []
  },
  {
   "cell_type": "code",
   "execution_count": null,
   "metadata": {},
   "outputs": [],
   "source": []
  },
  {
   "cell_type": "code",
   "execution_count": null,
   "metadata": {},
   "outputs": [],
   "source": []
  },
  {
   "cell_type": "code",
   "execution_count": null,
   "metadata": {},
   "outputs": [],
   "source": []
  },
  {
   "cell_type": "code",
   "execution_count": null,
   "metadata": {},
   "outputs": [],
   "source": []
  },
  {
   "cell_type": "code",
   "execution_count": null,
   "metadata": {},
   "outputs": [],
   "source": []
  },
  {
   "cell_type": "code",
   "execution_count": null,
   "metadata": {},
   "outputs": [],
   "source": []
  },
  {
   "cell_type": "code",
   "execution_count": null,
   "metadata": {},
   "outputs": [],
   "source": []
  },
  {
   "cell_type": "markdown",
   "metadata": {},
   "source": [
    "# Paso 8\n",
    "> Luego de culminado los pasos anteriores, el ESTUDIANTE 1, realizará un programa que imprima la serie de fibonacci para sus primeros 100 términos en un array de python, usando la rama “master” del repositorio creado. Por otro lado, el ESTUDIANTE 2, creando un “branch” llamado ejerProgra, generará un programa que muestre los nú-meros primos del 0-100. Luego de que el ESTUDIANTE 2 haya terminado su programa, debe de realizar un “pull request” al ESTUDIANTE 1, antes de hacer un “merge” dela rama ejerPrograa el proyecto principal (“master”). Luego de realizado estos pasos NO BORRAR LA RAMA CREADA."
   ]
  },
  {
   "cell_type": "code",
   "execution_count": null,
   "metadata": {},
   "outputs": [],
   "source": []
  }
 ],
 "metadata": {
  "kernelspec": {
   "display_name": "Python 3",
   "language": "python",
   "name": "python3"
  },
  "language_info": {
   "codemirror_mode": {
    "name": "ipython",
    "version": 3
   },
   "file_extension": ".py",
   "mimetype": "text/x-python",
   "name": "python",
   "nbconvert_exporter": "python",
   "pygments_lexer": "ipython3",
   "version": "3.7.4"
  }
 },
 "nbformat": 4,
 "nbformat_minor": 2
}
